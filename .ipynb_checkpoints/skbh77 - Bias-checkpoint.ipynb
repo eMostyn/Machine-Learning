{
 "cells": [
  {
   "cell_type": "code",
   "execution_count": 6,
   "id": "micro-foster",
   "metadata": {},
   "outputs": [],
   "source": [
    "import pandas as pd"
   ]
  },
  {
   "cell_type": "markdown",
   "id": "three-asset",
   "metadata": {},
   "source": [
    "<p>The data set split the data into a training and test sets, considering we may want to allocate those ourselves later we will combine the two.</p>"
   ]
  },
  {
   "cell_type": "code",
   "execution_count": 30,
   "id": "preceding-truth",
   "metadata": {},
   "outputs": [
    {
     "name": "stdout",
     "output_type": "stream",
     "text": [
      "   Age          Workclass  Final Weight   Education  education-num  \\\n",
      "0   39          State-gov         77516   Bachelors             13   \n",
      "1   50   Self-emp-not-inc         83311   Bachelors             13   \n",
      "2   38            Private        215646     HS-grad              9   \n",
      "3   53            Private        234721        11th              7   \n",
      "4   28            Private        338409   Bachelors             13   \n",
      "\n",
      "        Marital-status          Occupation    Relationship    Race      Sex  \\\n",
      "0        Never-married        Adm-clerical   Not-in-family   White     Male   \n",
      "1   Married-civ-spouse     Exec-managerial         Husband   White     Male   \n",
      "2             Divorced   Handlers-cleaners   Not-in-family   White     Male   \n",
      "3   Married-civ-spouse   Handlers-cleaners         Husband   Black     Male   \n",
      "4   Married-civ-spouse      Prof-specialty            Wife   Black   Female   \n",
      "\n",
      "   Capital-gain  Capital-loss  Hours/week  Native Country  Result  \n",
      "0          2174             0          40   United-States   <=50K  \n",
      "1             0             0          13   United-States   <=50K  \n",
      "2             0             0          40   United-States   <=50K  \n",
      "3             0             0          40   United-States   <=50K  \n",
      "4             0             0          40            Cuba   <=50K  \n"
     ]
    }
   ],
   "source": [
    "data = pd.read_csv('https://archive.ics.uci.edu/ml/machine-learning-databases/adult/adult.data',header=None)\n",
    "test  = pd.read_csv('https://archive.ics.uci.edu/ml/machine-learning-databases/adult/adult.test',skiprows=[0],sep=',', header=None)\n",
    "data = data.append(test)\n",
    "data.rename(columns={0: \"Age\",1: \"Workclass\",2:\"Final Weight\",3:\"Education\",4:\"education-num\",5:\"Marital-status\",6:\"Occupation\",7:\"Relationship\",8:\"Race\",9:\"Sex\",10:\"Capital-gain\",11:\"Capital-loss\",12:\"Hours/week\",13:\"Native Country\",14:\"Result\"},inplace = \"True\")\n",
    "print(data.head(5))\n"
   ]
  },
  {
   "cell_type": "code",
   "execution_count": null,
   "id": "forbidden-variation",
   "metadata": {},
   "outputs": [],
   "source": [
    "def cleanData(data):\n",
    "    #For a start, remove all rows where data is missing. \n",
    "    da"
   ]
  }
 ],
 "metadata": {
  "kernelspec": {
   "display_name": "Python 3",
   "language": "python",
   "name": "python3"
  },
  "language_info": {
   "codemirror_mode": {
    "name": "ipython",
    "version": 3
   },
   "file_extension": ".py",
   "mimetype": "text/x-python",
   "name": "python",
   "nbconvert_exporter": "python",
   "pygments_lexer": "ipython3",
   "version": "3.9.2"
  }
 },
 "nbformat": 4,
 "nbformat_minor": 5
}
